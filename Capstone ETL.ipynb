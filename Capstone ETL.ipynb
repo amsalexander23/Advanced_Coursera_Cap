{
    "cells": [
        {
            "cell_type": "markdown",
            "metadata": {
                "collapsed": true
            },
            "source": "<h1>Extract Transform Load</h1>\n<p>This document is the ETL for the Advanced Data Science Capstone. The data is from a Kaggle dataset on water pump sensors. The goal is to read in the csv data file and transform it into a pandas dataFrame.</p>"
        },
        {
            "cell_type": "code",
            "execution_count": 39,
            "metadata": {},
            "outputs": [
                {
                    "name": "stdout",
                    "output_type": "stream",
                    "text": "/opt/conda/envs/Python-3.7-OpenCE/lib/python3.7/site-packages/secretstorage/dhcrypto.py:16: CryptographyDeprecationWarning: int_from_bytes is deprecated, use int.from_bytes instead\n  from cryptography.utils import int_from_bytes\n/opt/conda/envs/Python-3.7-OpenCE/lib/python3.7/site-packages/secretstorage/util.py:25: CryptographyDeprecationWarning: int_from_bytes is deprecated, use int.from_bytes instead\n  from cryptography.utils import int_from_bytes\nRequirement already satisfied: pyspark==2.4.5 in /opt/conda/envs/Python-3.7-OpenCE/lib/python3.7/site-packages (2.4.5)\nRequirement already satisfied: py4j==0.10.7 in /opt/conda/envs/Python-3.7-OpenCE/lib/python3.7/site-packages (from pyspark==2.4.5) (0.10.7)\n"
                }
            ],
            "source": "#Install pyspark in order to use a spark session\n!pip install pyspark==2.4.5"
        },
        {
            "cell_type": "code",
            "execution_count": 40,
            "metadata": {},
            "outputs": [],
            "source": "#Test to make sure that the spark session will work\ntry:\n    from pyspark import SparkContext, SparkConf\n    from pyspark.sql import SparkSession\nexcept ImportError as e:\n    printmd('<<<<<!!!!! Please restart your kernel after installing Apache Spark !!!!!>>>>>')"
        },
        {
            "cell_type": "code",
            "execution_count": 41,
            "metadata": {},
            "outputs": [],
            "source": "#Creation of the spark session\nsc = SparkContext.getOrCreate(SparkConf().setMaster(\"local[*]\"))\n\nspark = SparkSession \\\n    .builder \\\n    .getOrCreate()"
        },
        {
            "cell_type": "markdown",
            "metadata": {},
            "source": "<p>Data is extracted from the IBM Cloud Object Store</p>"
        },
        {
            "cell_type": "code",
            "execution_count": 42,
            "metadata": {},
            "outputs": [],
            "source": "# The code was removed by Watson Studio for sharing."
        },
        {
            "cell_type": "code",
            "execution_count": 43,
            "metadata": {},
            "outputs": [
                {
                    "data": {
                        "text/html": "<div>\n<style scoped>\n    .dataframe tbody tr th:only-of-type {\n        vertical-align: middle;\n    }\n\n    .dataframe tbody tr th {\n        vertical-align: top;\n    }\n\n    .dataframe thead th {\n        text-align: right;\n    }\n</style>\n<table border=\"1\" class=\"dataframe\">\n  <thead>\n    <tr style=\"text-align: right;\">\n      <th></th>\n      <th>Unnamed: 0</th>\n      <th>timestamp</th>\n      <th>sensor_00</th>\n      <th>sensor_01</th>\n      <th>sensor_02</th>\n      <th>sensor_03</th>\n      <th>sensor_04</th>\n      <th>sensor_05</th>\n      <th>sensor_06</th>\n      <th>sensor_07</th>\n      <th>sensor_08</th>\n      <th>sensor_09</th>\n      <th>sensor_10</th>\n      <th>sensor_11</th>\n      <th>sensor_12</th>\n      <th>sensor_13</th>\n      <th>sensor_14</th>\n      <th>sensor_15</th>\n      <th>sensor_16</th>\n      <th>sensor_17</th>\n      <th>sensor_18</th>\n      <th>sensor_19</th>\n      <th>sensor_20</th>\n      <th>sensor_21</th>\n      <th>sensor_22</th>\n      <th>sensor_23</th>\n      <th>sensor_24</th>\n      <th>sensor_25</th>\n      <th>sensor_26</th>\n      <th>sensor_27</th>\n      <th>sensor_28</th>\n      <th>sensor_29</th>\n      <th>sensor_30</th>\n      <th>sensor_31</th>\n      <th>sensor_32</th>\n      <th>sensor_33</th>\n      <th>sensor_34</th>\n      <th>sensor_35</th>\n      <th>sensor_36</th>\n      <th>sensor_37</th>\n      <th>sensor_38</th>\n      <th>sensor_39</th>\n      <th>sensor_40</th>\n      <th>sensor_41</th>\n      <th>sensor_42</th>\n      <th>sensor_43</th>\n      <th>sensor_44</th>\n      <th>sensor_45</th>\n      <th>sensor_46</th>\n      <th>sensor_47</th>\n      <th>sensor_48</th>\n      <th>sensor_49</th>\n      <th>sensor_50</th>\n      <th>sensor_51</th>\n      <th>machine_status</th>\n    </tr>\n  </thead>\n  <tbody>\n    <tr>\n      <th>0</th>\n      <td>0</td>\n      <td>2018-04-01 00:00:00</td>\n      <td>2.465394</td>\n      <td>47.09201</td>\n      <td>53.2118</td>\n      <td>46.310760</td>\n      <td>634.3750</td>\n      <td>76.45975</td>\n      <td>13.41146</td>\n      <td>16.13136</td>\n      <td>15.56713</td>\n      <td>15.05353</td>\n      <td>37.22740</td>\n      <td>47.52422</td>\n      <td>31.11716</td>\n      <td>1.681353</td>\n      <td>419.5747</td>\n      <td>NaN</td>\n      <td>461.8781</td>\n      <td>466.3284</td>\n      <td>2.565284</td>\n      <td>665.3993</td>\n      <td>398.9862</td>\n      <td>880.0001</td>\n      <td>498.8926</td>\n      <td>975.9409</td>\n      <td>627.6740</td>\n      <td>741.7151</td>\n      <td>848.0708</td>\n      <td>429.0377</td>\n      <td>785.1935</td>\n      <td>684.9443</td>\n      <td>594.4445</td>\n      <td>682.8125</td>\n      <td>680.4416</td>\n      <td>433.7037</td>\n      <td>171.9375</td>\n      <td>341.9039</td>\n      <td>195.0655</td>\n      <td>90.32386</td>\n      <td>40.36458</td>\n      <td>31.51042</td>\n      <td>70.57291</td>\n      <td>30.98958</td>\n      <td>31.770832</td>\n      <td>41.92708</td>\n      <td>39.641200</td>\n      <td>65.68287</td>\n      <td>50.92593</td>\n      <td>38.194440</td>\n      <td>157.9861</td>\n      <td>67.70834</td>\n      <td>243.0556</td>\n      <td>201.3889</td>\n      <td>NORMAL</td>\n    </tr>\n    <tr>\n      <th>1</th>\n      <td>1</td>\n      <td>2018-04-01 00:01:00</td>\n      <td>2.465394</td>\n      <td>47.09201</td>\n      <td>53.2118</td>\n      <td>46.310760</td>\n      <td>634.3750</td>\n      <td>76.45975</td>\n      <td>13.41146</td>\n      <td>16.13136</td>\n      <td>15.56713</td>\n      <td>15.05353</td>\n      <td>37.22740</td>\n      <td>47.52422</td>\n      <td>31.11716</td>\n      <td>1.681353</td>\n      <td>419.5747</td>\n      <td>NaN</td>\n      <td>461.8781</td>\n      <td>466.3284</td>\n      <td>2.565284</td>\n      <td>665.3993</td>\n      <td>398.9862</td>\n      <td>880.0001</td>\n      <td>498.8926</td>\n      <td>975.9409</td>\n      <td>627.6740</td>\n      <td>741.7151</td>\n      <td>848.0708</td>\n      <td>429.0377</td>\n      <td>785.1935</td>\n      <td>684.9443</td>\n      <td>594.4445</td>\n      <td>682.8125</td>\n      <td>680.4416</td>\n      <td>433.7037</td>\n      <td>171.9375</td>\n      <td>341.9039</td>\n      <td>195.0655</td>\n      <td>90.32386</td>\n      <td>40.36458</td>\n      <td>31.51042</td>\n      <td>70.57291</td>\n      <td>30.98958</td>\n      <td>31.770832</td>\n      <td>41.92708</td>\n      <td>39.641200</td>\n      <td>65.68287</td>\n      <td>50.92593</td>\n      <td>38.194440</td>\n      <td>157.9861</td>\n      <td>67.70834</td>\n      <td>243.0556</td>\n      <td>201.3889</td>\n      <td>NORMAL</td>\n    </tr>\n    <tr>\n      <th>2</th>\n      <td>2</td>\n      <td>2018-04-01 00:02:00</td>\n      <td>2.444734</td>\n      <td>47.35243</td>\n      <td>53.2118</td>\n      <td>46.397570</td>\n      <td>638.8889</td>\n      <td>73.54598</td>\n      <td>13.32465</td>\n      <td>16.03733</td>\n      <td>15.61777</td>\n      <td>15.01013</td>\n      <td>37.86777</td>\n      <td>48.17723</td>\n      <td>32.08894</td>\n      <td>1.708474</td>\n      <td>420.8480</td>\n      <td>NaN</td>\n      <td>462.7798</td>\n      <td>459.6364</td>\n      <td>2.500062</td>\n      <td>666.2234</td>\n      <td>399.9418</td>\n      <td>880.4237</td>\n      <td>501.3617</td>\n      <td>982.7342</td>\n      <td>631.1326</td>\n      <td>740.8031</td>\n      <td>849.8997</td>\n      <td>454.2390</td>\n      <td>778.5734</td>\n      <td>715.6266</td>\n      <td>661.5740</td>\n      <td>721.8750</td>\n      <td>694.7721</td>\n      <td>441.2635</td>\n      <td>169.9820</td>\n      <td>343.1955</td>\n      <td>200.9694</td>\n      <td>93.90508</td>\n      <td>41.40625</td>\n      <td>31.25000</td>\n      <td>69.53125</td>\n      <td>30.46875</td>\n      <td>31.770830</td>\n      <td>41.66666</td>\n      <td>39.351852</td>\n      <td>65.39352</td>\n      <td>51.21528</td>\n      <td>38.194443</td>\n      <td>155.9606</td>\n      <td>67.12963</td>\n      <td>241.3194</td>\n      <td>203.7037</td>\n      <td>NORMAL</td>\n    </tr>\n    <tr>\n      <th>3</th>\n      <td>3</td>\n      <td>2018-04-01 00:03:00</td>\n      <td>2.460474</td>\n      <td>47.09201</td>\n      <td>53.1684</td>\n      <td>46.397568</td>\n      <td>628.1250</td>\n      <td>76.98898</td>\n      <td>13.31742</td>\n      <td>16.24711</td>\n      <td>15.69734</td>\n      <td>15.08247</td>\n      <td>38.57977</td>\n      <td>48.65607</td>\n      <td>31.67221</td>\n      <td>1.579427</td>\n      <td>420.7494</td>\n      <td>NaN</td>\n      <td>462.8980</td>\n      <td>460.8858</td>\n      <td>2.509521</td>\n      <td>666.0114</td>\n      <td>399.1046</td>\n      <td>878.8917</td>\n      <td>499.0430</td>\n      <td>977.7520</td>\n      <td>625.4076</td>\n      <td>739.2722</td>\n      <td>847.7579</td>\n      <td>474.8731</td>\n      <td>779.5091</td>\n      <td>690.4011</td>\n      <td>686.1111</td>\n      <td>754.6875</td>\n      <td>683.3831</td>\n      <td>446.2493</td>\n      <td>166.4987</td>\n      <td>343.9586</td>\n      <td>193.1689</td>\n      <td>101.04060</td>\n      <td>41.92708</td>\n      <td>31.51042</td>\n      <td>72.13541</td>\n      <td>30.46875</td>\n      <td>31.510420</td>\n      <td>40.88541</td>\n      <td>39.062500</td>\n      <td>64.81481</td>\n      <td>51.21528</td>\n      <td>38.194440</td>\n      <td>155.9606</td>\n      <td>66.84028</td>\n      <td>240.4514</td>\n      <td>203.1250</td>\n      <td>NORMAL</td>\n    </tr>\n    <tr>\n      <th>4</th>\n      <td>4</td>\n      <td>2018-04-01 00:04:00</td>\n      <td>2.445718</td>\n      <td>47.13541</td>\n      <td>53.2118</td>\n      <td>46.397568</td>\n      <td>636.4583</td>\n      <td>76.58897</td>\n      <td>13.35359</td>\n      <td>16.21094</td>\n      <td>15.69734</td>\n      <td>15.08247</td>\n      <td>39.48939</td>\n      <td>49.06298</td>\n      <td>31.95202</td>\n      <td>1.683831</td>\n      <td>419.8926</td>\n      <td>NaN</td>\n      <td>461.4906</td>\n      <td>468.2206</td>\n      <td>2.604785</td>\n      <td>663.2111</td>\n      <td>400.5426</td>\n      <td>882.5874</td>\n      <td>498.5383</td>\n      <td>979.5755</td>\n      <td>627.1830</td>\n      <td>737.6033</td>\n      <td>846.9182</td>\n      <td>408.8159</td>\n      <td>785.2307</td>\n      <td>704.6937</td>\n      <td>631.4814</td>\n      <td>766.1458</td>\n      <td>702.4431</td>\n      <td>433.9081</td>\n      <td>164.7498</td>\n      <td>339.9630</td>\n      <td>193.8770</td>\n      <td>101.70380</td>\n      <td>42.70833</td>\n      <td>31.51042</td>\n      <td>76.82291</td>\n      <td>30.98958</td>\n      <td>31.510420</td>\n      <td>41.40625</td>\n      <td>38.773150</td>\n      <td>65.10416</td>\n      <td>51.79398</td>\n      <td>38.773150</td>\n      <td>158.2755</td>\n      <td>66.55093</td>\n      <td>242.1875</td>\n      <td>201.3889</td>\n      <td>NORMAL</td>\n    </tr>\n  </tbody>\n</table>\n</div>",
                        "text/plain": "   Unnamed: 0            timestamp  sensor_00  sensor_01  sensor_02  \\\n0           0  2018-04-01 00:00:00   2.465394   47.09201    53.2118   \n1           1  2018-04-01 00:01:00   2.465394   47.09201    53.2118   \n2           2  2018-04-01 00:02:00   2.444734   47.35243    53.2118   \n3           3  2018-04-01 00:03:00   2.460474   47.09201    53.1684   \n4           4  2018-04-01 00:04:00   2.445718   47.13541    53.2118   \n\n   sensor_03  sensor_04  sensor_05  sensor_06  sensor_07  sensor_08  \\\n0  46.310760   634.3750   76.45975   13.41146   16.13136   15.56713   \n1  46.310760   634.3750   76.45975   13.41146   16.13136   15.56713   \n2  46.397570   638.8889   73.54598   13.32465   16.03733   15.61777   \n3  46.397568   628.1250   76.98898   13.31742   16.24711   15.69734   \n4  46.397568   636.4583   76.58897   13.35359   16.21094   15.69734   \n\n   sensor_09  sensor_10  sensor_11  sensor_12  sensor_13  sensor_14  \\\n0   15.05353   37.22740   47.52422   31.11716   1.681353   419.5747   \n1   15.05353   37.22740   47.52422   31.11716   1.681353   419.5747   \n2   15.01013   37.86777   48.17723   32.08894   1.708474   420.8480   \n3   15.08247   38.57977   48.65607   31.67221   1.579427   420.7494   \n4   15.08247   39.48939   49.06298   31.95202   1.683831   419.8926   \n\n   sensor_15  sensor_16  sensor_17  sensor_18  sensor_19  sensor_20  \\\n0        NaN   461.8781   466.3284   2.565284   665.3993   398.9862   \n1        NaN   461.8781   466.3284   2.565284   665.3993   398.9862   \n2        NaN   462.7798   459.6364   2.500062   666.2234   399.9418   \n3        NaN   462.8980   460.8858   2.509521   666.0114   399.1046   \n4        NaN   461.4906   468.2206   2.604785   663.2111   400.5426   \n\n   sensor_21  sensor_22  sensor_23  sensor_24  sensor_25  sensor_26  \\\n0   880.0001   498.8926   975.9409   627.6740   741.7151   848.0708   \n1   880.0001   498.8926   975.9409   627.6740   741.7151   848.0708   \n2   880.4237   501.3617   982.7342   631.1326   740.8031   849.8997   \n3   878.8917   499.0430   977.7520   625.4076   739.2722   847.7579   \n4   882.5874   498.5383   979.5755   627.1830   737.6033   846.9182   \n\n   sensor_27  sensor_28  sensor_29  sensor_30  sensor_31  sensor_32  \\\n0   429.0377   785.1935   684.9443   594.4445   682.8125   680.4416   \n1   429.0377   785.1935   684.9443   594.4445   682.8125   680.4416   \n2   454.2390   778.5734   715.6266   661.5740   721.8750   694.7721   \n3   474.8731   779.5091   690.4011   686.1111   754.6875   683.3831   \n4   408.8159   785.2307   704.6937   631.4814   766.1458   702.4431   \n\n   sensor_33  sensor_34  sensor_35  sensor_36  sensor_37  sensor_38  \\\n0   433.7037   171.9375   341.9039   195.0655   90.32386   40.36458   \n1   433.7037   171.9375   341.9039   195.0655   90.32386   40.36458   \n2   441.2635   169.9820   343.1955   200.9694   93.90508   41.40625   \n3   446.2493   166.4987   343.9586   193.1689  101.04060   41.92708   \n4   433.9081   164.7498   339.9630   193.8770  101.70380   42.70833   \n\n   sensor_39  sensor_40  sensor_41  sensor_42  sensor_43  sensor_44  \\\n0   31.51042   70.57291   30.98958  31.770832   41.92708  39.641200   \n1   31.51042   70.57291   30.98958  31.770832   41.92708  39.641200   \n2   31.25000   69.53125   30.46875  31.770830   41.66666  39.351852   \n3   31.51042   72.13541   30.46875  31.510420   40.88541  39.062500   \n4   31.51042   76.82291   30.98958  31.510420   41.40625  38.773150   \n\n   sensor_45  sensor_46  sensor_47  sensor_48  sensor_49  sensor_50  \\\n0   65.68287   50.92593  38.194440   157.9861   67.70834   243.0556   \n1   65.68287   50.92593  38.194440   157.9861   67.70834   243.0556   \n2   65.39352   51.21528  38.194443   155.9606   67.12963   241.3194   \n3   64.81481   51.21528  38.194440   155.9606   66.84028   240.4514   \n4   65.10416   51.79398  38.773150   158.2755   66.55093   242.1875   \n\n   sensor_51 machine_status  \n0   201.3889         NORMAL  \n1   201.3889         NORMAL  \n2   203.7037         NORMAL  \n3   203.1250         NORMAL  \n4   201.3889         NORMAL  "
                    },
                    "execution_count": 43,
                    "metadata": {},
                    "output_type": "execute_result"
                }
            ],
            "source": "#Showing the final Data Frame\ndf_data_1.head()"
        }
    ],
    "metadata": {
        "kernelspec": {
            "display_name": "Python 3.7",
            "language": "python",
            "name": "python3"
        },
        "language_info": {
            "codemirror_mode": {
                "name": "ipython",
                "version": 3
            },
            "file_extension": ".py",
            "mimetype": "text/x-python",
            "name": "python",
            "nbconvert_exporter": "python",
            "pygments_lexer": "ipython3",
            "version": "3.7.10"
        }
    },
    "nbformat": 4,
    "nbformat_minor": 1
}