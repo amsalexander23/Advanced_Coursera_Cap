{
    "cells": [
        {
            "cell_type": "code",
            "execution_count": 10,
            "metadata": {},
            "outputs": [],
            "source": "# The code was removed by Watson Studio for sharing."
        },
        {
            "cell_type": "markdown",
            "metadata": {
                "collapsed": true
            },
            "source": "<h1>Extract Transform Load</h1>\n<p>This document is the ETL for the Advanced Data Science Capstone. The data is from a Kaggle dataset on water pump sensors. The goal is to read in the csv data file and transform it into a pandas dataFrame.</p>"
        },
        {
            "cell_type": "markdown",
            "metadata": {},
            "source": "<p>Data is extracted from the IBM Cloud Object Store</p>"
        },
        {
            "cell_type": "code",
            "execution_count": 1,
            "metadata": {},
            "outputs": [
                {
                    "data": {
                        "text/html": "<div>\n<style scoped>\n    .dataframe tbody tr th:only-of-type {\n        vertical-align: middle;\n    }\n\n    .dataframe tbody tr th {\n        vertical-align: top;\n    }\n\n    .dataframe thead th {\n        text-align: right;\n    }\n</style>\n<table border=\"1\" class=\"dataframe\">\n  <thead>\n    <tr style=\"text-align: right;\">\n      <th></th>\n      <th>Unnamed: 0</th>\n      <th>timestamp</th>\n      <th>sensor_00</th>\n      <th>sensor_01</th>\n      <th>sensor_02</th>\n      <th>sensor_03</th>\n      <th>sensor_04</th>\n      <th>sensor_05</th>\n      <th>sensor_06</th>\n      <th>sensor_07</th>\n      <th>...</th>\n      <th>sensor_43</th>\n      <th>sensor_44</th>\n      <th>sensor_45</th>\n      <th>sensor_46</th>\n      <th>sensor_47</th>\n      <th>sensor_48</th>\n      <th>sensor_49</th>\n      <th>sensor_50</th>\n      <th>sensor_51</th>\n      <th>machine_status</th>\n    </tr>\n  </thead>\n  <tbody>\n    <tr>\n      <th>0</th>\n      <td>0</td>\n      <td>2018-04-01 00:00:00</td>\n      <td>2.465394</td>\n      <td>47.09201</td>\n      <td>53.2118</td>\n      <td>46.310760</td>\n      <td>634.3750</td>\n      <td>76.45975</td>\n      <td>13.41146</td>\n      <td>16.13136</td>\n      <td>...</td>\n      <td>41.92708</td>\n      <td>39.641200</td>\n      <td>65.68287</td>\n      <td>50.92593</td>\n      <td>38.194440</td>\n      <td>157.9861</td>\n      <td>67.70834</td>\n      <td>243.0556</td>\n      <td>201.3889</td>\n      <td>NORMAL</td>\n    </tr>\n    <tr>\n      <th>1</th>\n      <td>1</td>\n      <td>2018-04-01 00:01:00</td>\n      <td>2.465394</td>\n      <td>47.09201</td>\n      <td>53.2118</td>\n      <td>46.310760</td>\n      <td>634.3750</td>\n      <td>76.45975</td>\n      <td>13.41146</td>\n      <td>16.13136</td>\n      <td>...</td>\n      <td>41.92708</td>\n      <td>39.641200</td>\n      <td>65.68287</td>\n      <td>50.92593</td>\n      <td>38.194440</td>\n      <td>157.9861</td>\n      <td>67.70834</td>\n      <td>243.0556</td>\n      <td>201.3889</td>\n      <td>NORMAL</td>\n    </tr>\n    <tr>\n      <th>2</th>\n      <td>2</td>\n      <td>2018-04-01 00:02:00</td>\n      <td>2.444734</td>\n      <td>47.35243</td>\n      <td>53.2118</td>\n      <td>46.397570</td>\n      <td>638.8889</td>\n      <td>73.54598</td>\n      <td>13.32465</td>\n      <td>16.03733</td>\n      <td>...</td>\n      <td>41.66666</td>\n      <td>39.351852</td>\n      <td>65.39352</td>\n      <td>51.21528</td>\n      <td>38.194443</td>\n      <td>155.9606</td>\n      <td>67.12963</td>\n      <td>241.3194</td>\n      <td>203.7037</td>\n      <td>NORMAL</td>\n    </tr>\n    <tr>\n      <th>3</th>\n      <td>3</td>\n      <td>2018-04-01 00:03:00</td>\n      <td>2.460474</td>\n      <td>47.09201</td>\n      <td>53.1684</td>\n      <td>46.397568</td>\n      <td>628.1250</td>\n      <td>76.98898</td>\n      <td>13.31742</td>\n      <td>16.24711</td>\n      <td>...</td>\n      <td>40.88541</td>\n      <td>39.062500</td>\n      <td>64.81481</td>\n      <td>51.21528</td>\n      <td>38.194440</td>\n      <td>155.9606</td>\n      <td>66.84028</td>\n      <td>240.4514</td>\n      <td>203.1250</td>\n      <td>NORMAL</td>\n    </tr>\n    <tr>\n      <th>4</th>\n      <td>4</td>\n      <td>2018-04-01 00:04:00</td>\n      <td>2.445718</td>\n      <td>47.13541</td>\n      <td>53.2118</td>\n      <td>46.397568</td>\n      <td>636.4583</td>\n      <td>76.58897</td>\n      <td>13.35359</td>\n      <td>16.21094</td>\n      <td>...</td>\n      <td>41.40625</td>\n      <td>38.773150</td>\n      <td>65.10416</td>\n      <td>51.79398</td>\n      <td>38.773150</td>\n      <td>158.2755</td>\n      <td>66.55093</td>\n      <td>242.1875</td>\n      <td>201.3889</td>\n      <td>NORMAL</td>\n    </tr>\n  </tbody>\n</table>\n<p>5 rows \u00d7 55 columns</p>\n</div>",
                        "text/plain": "   Unnamed: 0            timestamp  sensor_00  sensor_01  sensor_02  \\\n0           0  2018-04-01 00:00:00   2.465394   47.09201    53.2118   \n1           1  2018-04-01 00:01:00   2.465394   47.09201    53.2118   \n2           2  2018-04-01 00:02:00   2.444734   47.35243    53.2118   \n3           3  2018-04-01 00:03:00   2.460474   47.09201    53.1684   \n4           4  2018-04-01 00:04:00   2.445718   47.13541    53.2118   \n\n   sensor_03  sensor_04  sensor_05  sensor_06  sensor_07  ...  sensor_43  \\\n0  46.310760   634.3750   76.45975   13.41146   16.13136  ...   41.92708   \n1  46.310760   634.3750   76.45975   13.41146   16.13136  ...   41.92708   \n2  46.397570   638.8889   73.54598   13.32465   16.03733  ...   41.66666   \n3  46.397568   628.1250   76.98898   13.31742   16.24711  ...   40.88541   \n4  46.397568   636.4583   76.58897   13.35359   16.21094  ...   41.40625   \n\n   sensor_44  sensor_45  sensor_46  sensor_47  sensor_48  sensor_49  \\\n0  39.641200   65.68287   50.92593  38.194440   157.9861   67.70834   \n1  39.641200   65.68287   50.92593  38.194440   157.9861   67.70834   \n2  39.351852   65.39352   51.21528  38.194443   155.9606   67.12963   \n3  39.062500   64.81481   51.21528  38.194440   155.9606   66.84028   \n4  38.773150   65.10416   51.79398  38.773150   158.2755   66.55093   \n\n   sensor_50  sensor_51  machine_status  \n0   243.0556   201.3889          NORMAL  \n1   243.0556   201.3889          NORMAL  \n2   241.3194   203.7037          NORMAL  \n3   240.4514   203.1250          NORMAL  \n4   242.1875   201.3889          NORMAL  \n\n[5 rows x 55 columns]"
                    },
                    "execution_count": 1,
                    "metadata": {},
                    "output_type": "execute_result"
                }
            ],
            "source": "# The code was removed by Watson Studio for sharing."
        },
        {
            "cell_type": "code",
            "execution_count": 2,
            "metadata": {},
            "outputs": [
                {
                    "data": {
                        "text/html": "<div>\n<style scoped>\n    .dataframe tbody tr th:only-of-type {\n        vertical-align: middle;\n    }\n\n    .dataframe tbody tr th {\n        vertical-align: top;\n    }\n\n    .dataframe thead th {\n        text-align: right;\n    }\n</style>\n<table border=\"1\" class=\"dataframe\">\n  <thead>\n    <tr style=\"text-align: right;\">\n      <th></th>\n      <th>Id</th>\n      <th>timestamp</th>\n      <th>sensor_00</th>\n      <th>sensor_01</th>\n      <th>sensor_02</th>\n      <th>sensor_03</th>\n      <th>sensor_04</th>\n      <th>sensor_05</th>\n      <th>sensor_06</th>\n      <th>sensor_07</th>\n      <th>...</th>\n      <th>sensor_43</th>\n      <th>sensor_44</th>\n      <th>sensor_45</th>\n      <th>sensor_46</th>\n      <th>sensor_47</th>\n      <th>sensor_48</th>\n      <th>sensor_49</th>\n      <th>sensor_50</th>\n      <th>sensor_51</th>\n      <th>machine_status</th>\n    </tr>\n  </thead>\n  <tbody>\n    <tr>\n      <th>0</th>\n      <td>0</td>\n      <td>2018-04-01 00:00:00</td>\n      <td>2.465394</td>\n      <td>47.09201</td>\n      <td>53.2118</td>\n      <td>46.310760</td>\n      <td>634.3750</td>\n      <td>76.45975</td>\n      <td>13.41146</td>\n      <td>16.13136</td>\n      <td>...</td>\n      <td>41.92708</td>\n      <td>39.641200</td>\n      <td>65.68287</td>\n      <td>50.92593</td>\n      <td>38.194440</td>\n      <td>157.9861</td>\n      <td>67.70834</td>\n      <td>243.0556</td>\n      <td>201.3889</td>\n      <td>NORMAL</td>\n    </tr>\n    <tr>\n      <th>1</th>\n      <td>1</td>\n      <td>2018-04-01 00:01:00</td>\n      <td>2.465394</td>\n      <td>47.09201</td>\n      <td>53.2118</td>\n      <td>46.310760</td>\n      <td>634.3750</td>\n      <td>76.45975</td>\n      <td>13.41146</td>\n      <td>16.13136</td>\n      <td>...</td>\n      <td>41.92708</td>\n      <td>39.641200</td>\n      <td>65.68287</td>\n      <td>50.92593</td>\n      <td>38.194440</td>\n      <td>157.9861</td>\n      <td>67.70834</td>\n      <td>243.0556</td>\n      <td>201.3889</td>\n      <td>NORMAL</td>\n    </tr>\n    <tr>\n      <th>2</th>\n      <td>2</td>\n      <td>2018-04-01 00:02:00</td>\n      <td>2.444734</td>\n      <td>47.35243</td>\n      <td>53.2118</td>\n      <td>46.397570</td>\n      <td>638.8889</td>\n      <td>73.54598</td>\n      <td>13.32465</td>\n      <td>16.03733</td>\n      <td>...</td>\n      <td>41.66666</td>\n      <td>39.351852</td>\n      <td>65.39352</td>\n      <td>51.21528</td>\n      <td>38.194443</td>\n      <td>155.9606</td>\n      <td>67.12963</td>\n      <td>241.3194</td>\n      <td>203.7037</td>\n      <td>NORMAL</td>\n    </tr>\n    <tr>\n      <th>3</th>\n      <td>3</td>\n      <td>2018-04-01 00:03:00</td>\n      <td>2.460474</td>\n      <td>47.09201</td>\n      <td>53.1684</td>\n      <td>46.397568</td>\n      <td>628.1250</td>\n      <td>76.98898</td>\n      <td>13.31742</td>\n      <td>16.24711</td>\n      <td>...</td>\n      <td>40.88541</td>\n      <td>39.062500</td>\n      <td>64.81481</td>\n      <td>51.21528</td>\n      <td>38.194440</td>\n      <td>155.9606</td>\n      <td>66.84028</td>\n      <td>240.4514</td>\n      <td>203.1250</td>\n      <td>NORMAL</td>\n    </tr>\n    <tr>\n      <th>4</th>\n      <td>4</td>\n      <td>2018-04-01 00:04:00</td>\n      <td>2.445718</td>\n      <td>47.13541</td>\n      <td>53.2118</td>\n      <td>46.397568</td>\n      <td>636.4583</td>\n      <td>76.58897</td>\n      <td>13.35359</td>\n      <td>16.21094</td>\n      <td>...</td>\n      <td>41.40625</td>\n      <td>38.773150</td>\n      <td>65.10416</td>\n      <td>51.79398</td>\n      <td>38.773150</td>\n      <td>158.2755</td>\n      <td>66.55093</td>\n      <td>242.1875</td>\n      <td>201.3889</td>\n      <td>NORMAL</td>\n    </tr>\n  </tbody>\n</table>\n<p>5 rows \u00d7 54 columns</p>\n</div>",
                        "text/plain": "   Id            timestamp  sensor_00  sensor_01  sensor_02  sensor_03  \\\n0   0  2018-04-01 00:00:00   2.465394   47.09201    53.2118  46.310760   \n1   1  2018-04-01 00:01:00   2.465394   47.09201    53.2118  46.310760   \n2   2  2018-04-01 00:02:00   2.444734   47.35243    53.2118  46.397570   \n3   3  2018-04-01 00:03:00   2.460474   47.09201    53.1684  46.397568   \n4   4  2018-04-01 00:04:00   2.445718   47.13541    53.2118  46.397568   \n\n   sensor_04  sensor_05  sensor_06  sensor_07  ...  sensor_43  sensor_44  \\\n0   634.3750   76.45975   13.41146   16.13136  ...   41.92708  39.641200   \n1   634.3750   76.45975   13.41146   16.13136  ...   41.92708  39.641200   \n2   638.8889   73.54598   13.32465   16.03733  ...   41.66666  39.351852   \n3   628.1250   76.98898   13.31742   16.24711  ...   40.88541  39.062500   \n4   636.4583   76.58897   13.35359   16.21094  ...   41.40625  38.773150   \n\n   sensor_45  sensor_46  sensor_47  sensor_48  sensor_49  sensor_50  \\\n0   65.68287   50.92593  38.194440   157.9861   67.70834   243.0556   \n1   65.68287   50.92593  38.194440   157.9861   67.70834   243.0556   \n2   65.39352   51.21528  38.194443   155.9606   67.12963   241.3194   \n3   64.81481   51.21528  38.194440   155.9606   66.84028   240.4514   \n4   65.10416   51.79398  38.773150   158.2755   66.55093   242.1875   \n\n   sensor_51  machine_status  \n0   201.3889          NORMAL  \n1   201.3889          NORMAL  \n2   203.7037          NORMAL  \n3   203.1250          NORMAL  \n4   201.3889          NORMAL  \n\n[5 rows x 54 columns]"
                    },
                    "execution_count": 2,
                    "metadata": {},
                    "output_type": "execute_result"
                }
            ],
            "source": "#Id column is renamed for readability and the sensor_15 column is dropped as it is 100% NaNs\ndata.rename(columns={data.columns[0]: 'Id'}, inplace = True)\ndata.drop('sensor_15', axis = 1, inplace = True)\ndata.head()"
        },
        {
            "cell_type": "code",
            "execution_count": 3,
            "metadata": {},
            "outputs": [],
            "source": "pd.to_datetime(data.timestamp)\ndata['timestamp'] = [datetime.strptime(x, '%Y-%m-%d %H:%M:%S') for x in data.timestamp]"
        },
        {
            "cell_type": "code",
            "execution_count": 4,
            "metadata": {},
            "outputs": [
                {
                    "data": {
                        "text/plain": "NORMAL        205836\nRECOVERING     14484\nName: machine_status, dtype: int64"
                    },
                    "execution_count": 4,
                    "metadata": {},
                    "output_type": "execute_result"
                }
            ],
            "source": "data.loc[data.machine_status == 'BROKEN', 'machine_status'] = 'RECOVERING'\ndata.machine_status.value_counts()"
        },
        {
            "cell_type": "code",
            "execution_count": 5,
            "metadata": {},
            "outputs": [
                {
                    "data": {
                        "text/plain": "Id                    0\ntimestamp             0\nsensor_00         10208\nsensor_01           369\nsensor_02            19\nsensor_03            19\nsensor_04            19\nsensor_05            19\nsensor_06          4798\nsensor_07          5451\nsensor_08          5107\nsensor_09          4595\nsensor_10            19\nsensor_11            19\nsensor_12            19\nsensor_13            19\nsensor_14            21\nsensor_16            31\nsensor_17            46\nsensor_18            46\nsensor_19            16\nsensor_20            16\nsensor_21            16\nsensor_22            41\nsensor_23            16\nsensor_24            16\nsensor_25            36\nsensor_26            20\nsensor_27            16\nsensor_28            16\nsensor_29            72\nsensor_30           261\nsensor_31            16\nsensor_32            68\nsensor_33            16\nsensor_34            16\nsensor_35            16\nsensor_36            16\nsensor_37            16\nsensor_38            27\nsensor_39            27\nsensor_40            27\nsensor_41            27\nsensor_42            27\nsensor_43            27\nsensor_44            27\nsensor_45            27\nsensor_46            27\nsensor_47            27\nsensor_48            27\nsensor_49            27\nsensor_50         77017\nsensor_51         15383\nmachine_status        0\ndtype: int64"
                    },
                    "execution_count": 5,
                    "metadata": {},
                    "output_type": "execute_result"
                }
            ],
            "source": "data.isna().sum()"
        },
        {
            "cell_type": "code",
            "execution_count": 6,
            "metadata": {},
            "outputs": [],
            "source": "values = {}\nfor i in data.columns[2:-1]:\n    values[i] = data[i].mean()\n\ndata.fillna(value = values, inplace = True)"
        },
        {
            "cell_type": "code",
            "execution_count": 7,
            "metadata": {},
            "outputs": [
                {
                    "data": {
                        "text/plain": "Id                0\ntimestamp         0\nsensor_00         0\nsensor_01         0\nsensor_02         0\nsensor_03         0\nsensor_04         0\nsensor_05         0\nsensor_06         0\nsensor_07         0\nsensor_08         0\nsensor_09         0\nsensor_10         0\nsensor_11         0\nsensor_12         0\nsensor_13         0\nsensor_14         0\nsensor_16         0\nsensor_17         0\nsensor_18         0\nsensor_19         0\nsensor_20         0\nsensor_21         0\nsensor_22         0\nsensor_23         0\nsensor_24         0\nsensor_25         0\nsensor_26         0\nsensor_27         0\nsensor_28         0\nsensor_29         0\nsensor_30         0\nsensor_31         0\nsensor_32         0\nsensor_33         0\nsensor_34         0\nsensor_35         0\nsensor_36         0\nsensor_37         0\nsensor_38         0\nsensor_39         0\nsensor_40         0\nsensor_41         0\nsensor_42         0\nsensor_43         0\nsensor_44         0\nsensor_45         0\nsensor_46         0\nsensor_47         0\nsensor_48         0\nsensor_49         0\nsensor_50         0\nsensor_51         0\nmachine_status    0\ndtype: int64"
                    },
                    "execution_count": 7,
                    "metadata": {},
                    "output_type": "execute_result"
                }
            ],
            "source": "data.isna().sum()"
        },
        {
            "cell_type": "code",
            "execution_count": 11,
            "metadata": {},
            "outputs": [
                {
                    "data": {
                        "text/plain": "{'file_name': 'data_clean.csv',\n 'message': 'File saved to project storage.',\n 'bucket_name': 'fundamentalsofscalabledatascience-donotdelete-pr-9lqqxd4zzrrymc',\n 'asset_id': 'dcddf2ea-26da-47b3-8bc8-508f10848b17'}"
                    },
                    "execution_count": 11,
                    "metadata": {},
                    "output_type": "execute_result"
                }
            ],
            "source": "project.save_data(file_name = 'data_clean.csv', data = data.to_csv(index=False))\n"
        }
    ],
    "metadata": {
        "kernelspec": {
            "display_name": "Python 3.7",
            "language": "python",
            "name": "python3"
        },
        "language_info": {
            "codemirror_mode": {
                "name": "ipython",
                "version": 3
            },
            "file_extension": ".py",
            "mimetype": "text/x-python",
            "name": "python",
            "nbconvert_exporter": "python",
            "pygments_lexer": "ipython3",
            "version": "3.7.10"
        }
    },
    "nbformat": 4,
    "nbformat_minor": 1
}